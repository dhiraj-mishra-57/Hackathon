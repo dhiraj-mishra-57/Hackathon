{
  "nbformat": 4,
  "nbformat_minor": 0,
  "metadata": {
    "colab": {
      "name": "MLDS_MACHINE_HACK.ipynb",
      "version": "0.3.2",
      "provenance": [],
      "collapsed_sections": []
    },
    "kernelspec": {
      "name": "python3",
      "display_name": "Python 3"
    }
  },
  "cells": [
    {
      "cell_type": "code",
      "metadata": {
        "id": "MjWrXQ0E4fHJ",
        "colab_type": "code",
        "colab": {}
      },
      "source": [
        "import pandas as pd\n",
        "import numpy as np\n",
        "import matplotlib.pyplot as plt\n",
        "import seaborn as sns\n",
        "%matplotlib inline\n",
        "from google.colab.files import upload\n",
        "from sklearn.linear_model import ElasticNet, BayesianRidge, LassoLarsIC\n",
        "from sklearn.kernel_ridge import KernelRidge\n",
        "from sklearn.ensemble import  GradientBoostingRegressor\n",
        "import lightgbm as lgb\n",
        "import xgboost as xgb\n",
        "from sklearn.pipeline import make_pipeline"
      ],
      "execution_count": 0,
      "outputs": []
    },
    {
      "cell_type": "code",
      "metadata": {
        "id": "hPT5nI0I4pYG",
        "colab_type": "code",
        "outputId": "636a2f9a-8ed5-4ef6-a27b-77b86acf1486",
        "colab": {
          "resources": {
            "http://localhost:8080/nbextensions/google.colab/files.js": {
              "data": "Ly8gQ29weXJpZ2h0IDIwMTcgR29vZ2xlIExMQwovLwovLyBMaWNlbnNlZCB1bmRlciB0aGUgQXBhY2hlIExpY2Vuc2UsIFZlcnNpb24gMi4wICh0aGUgIkxpY2Vuc2UiKTsKLy8geW91IG1heSBub3QgdXNlIHRoaXMgZmlsZSBleGNlcHQgaW4gY29tcGxpYW5jZSB3aXRoIHRoZSBMaWNlbnNlLgovLyBZb3UgbWF5IG9idGFpbiBhIGNvcHkgb2YgdGhlIExpY2Vuc2UgYXQKLy8KLy8gICAgICBodHRwOi8vd3d3LmFwYWNoZS5vcmcvbGljZW5zZXMvTElDRU5TRS0yLjAKLy8KLy8gVW5sZXNzIHJlcXVpcmVkIGJ5IGFwcGxpY2FibGUgbGF3IG9yIGFncmVlZCB0byBpbiB3cml0aW5nLCBzb2Z0d2FyZQovLyBkaXN0cmlidXRlZCB1bmRlciB0aGUgTGljZW5zZSBpcyBkaXN0cmlidXRlZCBvbiBhbiAiQVMgSVMiIEJBU0lTLAovLyBXSVRIT1VUIFdBUlJBTlRJRVMgT1IgQ09ORElUSU9OUyBPRiBBTlkgS0lORCwgZWl0aGVyIGV4cHJlc3Mgb3IgaW1wbGllZC4KLy8gU2VlIHRoZSBMaWNlbnNlIGZvciB0aGUgc3BlY2lmaWMgbGFuZ3VhZ2UgZ292ZXJuaW5nIHBlcm1pc3Npb25zIGFuZAovLyBsaW1pdGF0aW9ucyB1bmRlciB0aGUgTGljZW5zZS4KCi8qKgogKiBAZmlsZW92ZXJ2aWV3IEhlbHBlcnMgZm9yIGdvb2dsZS5jb2xhYiBQeXRob24gbW9kdWxlLgogKi8KKGZ1bmN0aW9uKHNjb3BlKSB7CmZ1bmN0aW9uIHNwYW4odGV4dCwgc3R5bGVBdHRyaWJ1dGVzID0ge30pIHsKICBjb25zdCBlbGVtZW50ID0gZG9jdW1lbnQuY3JlYXRlRWxlbWVudCgnc3BhbicpOwogIGVsZW1lbnQudGV4dENvbnRlbnQgPSB0ZXh0OwogIGZvciAoY29uc3Qga2V5IG9mIE9iamVjdC5rZXlzKHN0eWxlQXR0cmlidXRlcykpIHsKICAgIGVsZW1lbnQuc3R5bGVba2V5XSA9IHN0eWxlQXR0cmlidXRlc1trZXldOwogIH0KICByZXR1cm4gZWxlbWVudDsKfQoKLy8gTWF4IG51bWJlciBvZiBieXRlcyB3aGljaCB3aWxsIGJlIHVwbG9hZGVkIGF0IGEgdGltZS4KY29uc3QgTUFYX1BBWUxPQURfU0laRSA9IDEwMCAqIDEwMjQ7Ci8vIE1heCBhbW91bnQgb2YgdGltZSB0byBibG9jayB3YWl0aW5nIGZvciB0aGUgdXNlci4KY29uc3QgRklMRV9DSEFOR0VfVElNRU9VVF9NUyA9IDMwICogMTAwMDsKCmZ1bmN0aW9uIF91cGxvYWRGaWxlcyhpbnB1dElkLCBvdXRwdXRJZCkgewogIGNvbnN0IHN0ZXBzID0gdXBsb2FkRmlsZXNTdGVwKGlucHV0SWQsIG91dHB1dElkKTsKICBjb25zdCBvdXRwdXRFbGVtZW50ID0gZG9jdW1lbnQuZ2V0RWxlbWVudEJ5SWQob3V0cHV0SWQpOwogIC8vIENhY2hlIHN0ZXBzIG9uIHRoZSBvdXRwdXRFbGVtZW50IHRvIG1ha2UgaXQgYXZhaWxhYmxlIGZvciB0aGUgbmV4dCBjYWxsCiAgLy8gdG8gdXBsb2FkRmlsZXNDb250aW51ZSBmcm9tIFB5dGhvbi4KICBvdXRwdXRFbGVtZW50LnN0ZXBzID0gc3RlcHM7CgogIHJldHVybiBfdXBsb2FkRmlsZXNDb250aW51ZShvdXRwdXRJZCk7Cn0KCi8vIFRoaXMgaXMgcm91Z2hseSBhbiBhc3luYyBnZW5lcmF0b3IgKG5vdCBzdXBwb3J0ZWQgaW4gdGhlIGJyb3dzZXIgeWV0KSwKLy8gd2hlcmUgdGhlcmUgYXJlIG11bHRpcGxlIGFzeW5jaHJvbm91cyBzdGVwcyBhbmQgdGhlIFB5dGhvbiBzaWRlIGlzIGdvaW5nCi8vIHRvIHBvbGwgZm9yIGNvbXBsZXRpb24gb2YgZWFjaCBzdGVwLgovLyBUaGlzIHVzZXMgYSBQcm9taXNlIHRvIGJsb2NrIHRoZSBweXRob24gc2lkZSBvbiBjb21wbGV0aW9uIG9mIGVhY2ggc3RlcCwKLy8gdGhlbiBwYXNzZXMgdGhlIHJlc3VsdCBvZiB0aGUgcHJldmlvdXMgc3RlcCBhcyB0aGUgaW5wdXQgdG8gdGhlIG5leHQgc3RlcC4KZnVuY3Rpb24gX3VwbG9hZEZpbGVzQ29udGludWUob3V0cHV0SWQpIHsKICBjb25zdCBvdXRwdXRFbGVtZW50ID0gZG9jdW1lbnQuZ2V0RWxlbWVudEJ5SWQob3V0cHV0SWQpOwogIGNvbnN0IHN0ZXBzID0gb3V0cHV0RWxlbWVudC5zdGVwczsKCiAgY29uc3QgbmV4dCA9IHN0ZXBzLm5leHQob3V0cHV0RWxlbWVudC5sYXN0UHJvbWlzZVZhbHVlKTsKICByZXR1cm4gUHJvbWlzZS5yZXNvbHZlKG5leHQudmFsdWUucHJvbWlzZSkudGhlbigodmFsdWUpID0+IHsKICAgIC8vIENhY2hlIHRoZSBsYXN0IHByb21pc2UgdmFsdWUgdG8gbWFrZSBpdCBhdmFpbGFibGUgdG8gdGhlIG5leHQKICAgIC8vIHN0ZXAgb2YgdGhlIGdlbmVyYXRvci4KICAgIG91dHB1dEVsZW1lbnQubGFzdFByb21pc2VWYWx1ZSA9IHZhbHVlOwogICAgcmV0dXJuIG5leHQudmFsdWUucmVzcG9uc2U7CiAgfSk7Cn0KCi8qKgogKiBHZW5lcmF0b3IgZnVuY3Rpb24gd2hpY2ggaXMgY2FsbGVkIGJldHdlZW4gZWFjaCBhc3luYyBzdGVwIG9mIHRoZSB1cGxvYWQKICogcHJvY2Vzcy4KICogQHBhcmFtIHtzdHJpbmd9IGlucHV0SWQgRWxlbWVudCBJRCBvZiB0aGUgaW5wdXQgZmlsZSBwaWNrZXIgZWxlbWVudC4KICogQHBhcmFtIHtzdHJpbmd9IG91dHB1dElkIEVsZW1lbnQgSUQgb2YgdGhlIG91dHB1dCBkaXNwbGF5LgogKiBAcmV0dXJuIHshSXRlcmFibGU8IU9iamVjdD59IEl0ZXJhYmxlIG9mIG5leHQgc3RlcHMuCiAqLwpmdW5jdGlvbiogdXBsb2FkRmlsZXNTdGVwKGlucHV0SWQsIG91dHB1dElkKSB7CiAgY29uc3QgaW5wdXRFbGVtZW50ID0gZG9jdW1lbnQuZ2V0RWxlbWVudEJ5SWQoaW5wdXRJZCk7CiAgaW5wdXRFbGVtZW50LmRpc2FibGVkID0gZmFsc2U7CgogIGNvbnN0IG91dHB1dEVsZW1lbnQgPSBkb2N1bWVudC5nZXRFbGVtZW50QnlJZChvdXRwdXRJZCk7CiAgb3V0cHV0RWxlbWVudC5pbm5lckhUTUwgPSAnJzsKCiAgY29uc3QgcGlja2VkUHJvbWlzZSA9IG5ldyBQcm9taXNlKChyZXNvbHZlKSA9PiB7CiAgICBpbnB1dEVsZW1lbnQuYWRkRXZlbnRMaXN0ZW5lcignY2hhbmdlJywgKGUpID0+IHsKICAgICAgcmVzb2x2ZShlLnRhcmdldC5maWxlcyk7CiAgICB9KTsKICB9KTsKCiAgY29uc3QgY2FuY2VsID0gZG9jdW1lbnQuY3JlYXRlRWxlbWVudCgnYnV0dG9uJyk7CiAgaW5wdXRFbGVtZW50LnBhcmVudEVsZW1lbnQuYXBwZW5kQ2hpbGQoY2FuY2VsKTsKICBjYW5jZWwudGV4dENvbnRlbnQgPSAnQ2FuY2VsIHVwbG9hZCc7CiAgY29uc3QgY2FuY2VsUHJvbWlzZSA9IG5ldyBQcm9taXNlKChyZXNvbHZlKSA9PiB7CiAgICBjYW5jZWwub25jbGljayA9ICgpID0+IHsKICAgICAgcmVzb2x2ZShudWxsKTsKICAgIH07CiAgfSk7CgogIC8vIENhbmNlbCB1cGxvYWQgaWYgdXNlciBoYXNuJ3QgcGlja2VkIGFueXRoaW5nIGluIHRpbWVvdXQuCiAgY29uc3QgdGltZW91dFByb21pc2UgPSBuZXcgUHJvbWlzZSgocmVzb2x2ZSkgPT4gewogICAgc2V0VGltZW91dCgoKSA9PiB7CiAgICAgIHJlc29sdmUobnVsbCk7CiAgICB9LCBGSUxFX0NIQU5HRV9USU1FT1VUX01TKTsKICB9KTsKCiAgLy8gV2FpdCBmb3IgdGhlIHVzZXIgdG8gcGljayB0aGUgZmlsZXMuCiAgY29uc3QgZmlsZXMgPSB5aWVsZCB7CiAgICBwcm9taXNlOiBQcm9taXNlLnJhY2UoW3BpY2tlZFByb21pc2UsIHRpbWVvdXRQcm9taXNlLCBjYW5jZWxQcm9taXNlXSksCiAgICByZXNwb25zZTogewogICAgICBhY3Rpb246ICdzdGFydGluZycsCiAgICB9CiAgfTsKCiAgaWYgKCFmaWxlcykgewogICAgcmV0dXJuIHsKICAgICAgcmVzcG9uc2U6IHsKICAgICAgICBhY3Rpb246ICdjb21wbGV0ZScsCiAgICAgIH0KICAgIH07CiAgfQoKICBjYW5jZWwucmVtb3ZlKCk7CgogIC8vIERpc2FibGUgdGhlIGlucHV0IGVsZW1lbnQgc2luY2UgZnVydGhlciBwaWNrcyBhcmUgbm90IGFsbG93ZWQuCiAgaW5wdXRFbGVtZW50LmRpc2FibGVkID0gdHJ1ZTsKCiAgZm9yIChjb25zdCBmaWxlIG9mIGZpbGVzKSB7CiAgICBjb25zdCBsaSA9IGRvY3VtZW50LmNyZWF0ZUVsZW1lbnQoJ2xpJyk7CiAgICBsaS5hcHBlbmQoc3BhbihmaWxlLm5hbWUsIHtmb250V2VpZ2h0OiAnYm9sZCd9KSk7CiAgICBsaS5hcHBlbmQoc3BhbigKICAgICAgICBgKCR7ZmlsZS50eXBlIHx8ICduL2EnfSkgLSAke2ZpbGUuc2l6ZX0gYnl0ZXMsIGAgKwogICAgICAgIGBsYXN0IG1vZGlmaWVkOiAkewogICAgICAgICAgICBmaWxlLmxhc3RNb2RpZmllZERhdGUgPyBmaWxlLmxhc3RNb2RpZmllZERhdGUudG9Mb2NhbGVEYXRlU3RyaW5nKCkgOgogICAgICAgICAgICAgICAgICAgICAgICAgICAgICAgICAgICAnbi9hJ30gLSBgKSk7CiAgICBjb25zdCBwZXJjZW50ID0gc3BhbignMCUgZG9uZScpOwogICAgbGkuYXBwZW5kQ2hpbGQocGVyY2VudCk7CgogICAgb3V0cHV0RWxlbWVudC5hcHBlbmRDaGlsZChsaSk7CgogICAgY29uc3QgZmlsZURhdGFQcm9taXNlID0gbmV3IFByb21pc2UoKHJlc29sdmUpID0+IHsKICAgICAgY29uc3QgcmVhZGVyID0gbmV3IEZpbGVSZWFkZXIoKTsKICAgICAgcmVhZGVyLm9ubG9hZCA9IChlKSA9PiB7CiAgICAgICAgcmVzb2x2ZShlLnRhcmdldC5yZXN1bHQpOwogICAgICB9OwogICAgICByZWFkZXIucmVhZEFzQXJyYXlCdWZmZXIoZmlsZSk7CiAgICB9KTsKICAgIC8vIFdhaXQgZm9yIHRoZSBkYXRhIHRvIGJlIHJlYWR5LgogICAgbGV0IGZpbGVEYXRhID0geWllbGQgewogICAgICBwcm9taXNlOiBmaWxlRGF0YVByb21pc2UsCiAgICAgIHJlc3BvbnNlOiB7CiAgICAgICAgYWN0aW9uOiAnY29udGludWUnLAogICAgICB9CiAgICB9OwoKICAgIC8vIFVzZSBhIGNodW5rZWQgc2VuZGluZyB0byBhdm9pZCBtZXNzYWdlIHNpemUgbGltaXRzLiBTZWUgYi82MjExNTY2MC4KICAgIGxldCBwb3NpdGlvbiA9IDA7CiAgICB3aGlsZSAocG9zaXRpb24gPCBmaWxlRGF0YS5ieXRlTGVuZ3RoKSB7CiAgICAgIGNvbnN0IGxlbmd0aCA9IE1hdGgubWluKGZpbGVEYXRhLmJ5dGVMZW5ndGggLSBwb3NpdGlvbiwgTUFYX1BBWUxPQURfU0laRSk7CiAgICAgIGNvbnN0IGNodW5rID0gbmV3IFVpbnQ4QXJyYXkoZmlsZURhdGEsIHBvc2l0aW9uLCBsZW5ndGgpOwogICAgICBwb3NpdGlvbiArPSBsZW5ndGg7CgogICAgICBjb25zdCBiYXNlNjQgPSBidG9hKFN0cmluZy5mcm9tQ2hhckNvZGUuYXBwbHkobnVsbCwgY2h1bmspKTsKICAgICAgeWllbGQgewogICAgICAgIHJlc3BvbnNlOiB7CiAgICAgICAgICBhY3Rpb246ICdhcHBlbmQnLAogICAgICAgICAgZmlsZTogZmlsZS5uYW1lLAogICAgICAgICAgZGF0YTogYmFzZTY0LAogICAgICAgIH0sCiAgICAgIH07CiAgICAgIHBlcmNlbnQudGV4dENvbnRlbnQgPQogICAgICAgICAgYCR7TWF0aC5yb3VuZCgocG9zaXRpb24gLyBmaWxlRGF0YS5ieXRlTGVuZ3RoKSAqIDEwMCl9JSBkb25lYDsKICAgIH0KICB9CgogIC8vIEFsbCBkb25lLgogIHlpZWxkIHsKICAgIHJlc3BvbnNlOiB7CiAgICAgIGFjdGlvbjogJ2NvbXBsZXRlJywKICAgIH0KICB9Owp9CgpzY29wZS5nb29nbGUgPSBzY29wZS5nb29nbGUgfHwge307CnNjb3BlLmdvb2dsZS5jb2xhYiA9IHNjb3BlLmdvb2dsZS5jb2xhYiB8fCB7fTsKc2NvcGUuZ29vZ2xlLmNvbGFiLl9maWxlcyA9IHsKICBfdXBsb2FkRmlsZXMsCiAgX3VwbG9hZEZpbGVzQ29udGludWUsCn07Cn0pKHNlbGYpOwo=",
              "ok": true,
              "headers": [
                [
                  "content-type",
                  "application/javascript"
                ]
              ],
              "status": 200,
              "status_text": ""
            }
          },
          "base_uri": "https://localhost:8080/",
          "height": 295
        }
      },
      "source": [
        "upload()\n",
        "train = pd.read_csv('final_train_data.csv')\n",
        "test = pd.read_csv('final_test_data.csv')\n",
        "train.head()"
      ],
      "execution_count": 0,
      "outputs": [
        {
          "output_type": "display_data",
          "data": {
            "text/html": [
              "\n",
              "     <input type=\"file\" id=\"files-7dc87720-742f-40fb-a2aa-36c2eb200016\" name=\"files[]\" multiple disabled />\n",
              "     <output id=\"result-7dc87720-742f-40fb-a2aa-36c2eb200016\">\n",
              "      Upload widget is only available when the cell has been executed in the\n",
              "      current browser session. Please rerun this cell to enable.\n",
              "      </output>\n",
              "      <script src=\"/nbextensions/google.colab/files.js\"></script> "
            ],
            "text/plain": [
              "<IPython.core.display.HTML object>"
            ]
          },
          "metadata": {
            "tags": []
          }
        },
        {
          "output_type": "stream",
          "text": [
            "Saving final_test_data.csv to final_test_data.csv\n",
            "Saving final_train_data.csv to final_train_data.csv\n"
          ],
          "name": "stdout"
        },
        {
          "output_type": "execute_result",
          "data": {
            "text/html": [
              "<div>\n",
              "<style scoped>\n",
              "    .dataframe tbody tr th:only-of-type {\n",
              "        vertical-align: middle;\n",
              "    }\n",
              "\n",
              "    .dataframe tbody tr th {\n",
              "        vertical-align: top;\n",
              "    }\n",
              "\n",
              "    .dataframe thead th {\n",
              "        text-align: right;\n",
              "    }\n",
              "</style>\n",
              "<table border=\"1\" class=\"dataframe\">\n",
              "  <thead>\n",
              "    <tr style=\"text-align: right;\">\n",
              "      <th></th>\n",
              "      <th>Unnamed: 0</th>\n",
              "      <th>Country Name</th>\n",
              "      <th>Country Code</th>\n",
              "      <th>Year</th>\n",
              "      <th>Balance</th>\n",
              "      <th>Inflation</th>\n",
              "      <th>GDP</th>\n",
              "      <th>Exports</th>\n",
              "      <th>Trade</th>\n",
              "    </tr>\n",
              "  </thead>\n",
              "  <tbody>\n",
              "    <tr>\n",
              "      <th>0</th>\n",
              "      <td>0</td>\n",
              "      <td>Senegal</td>\n",
              "      <td>SEN</td>\n",
              "      <td>1983</td>\n",
              "      <td>-3.043829e+08</td>\n",
              "      <td>9.274213</td>\n",
              "      <td>-5.326393</td>\n",
              "      <td>6.180000e+08</td>\n",
              "      <td>59.224298</td>\n",
              "    </tr>\n",
              "    <tr>\n",
              "      <th>1</th>\n",
              "      <td>1</td>\n",
              "      <td>Togo</td>\n",
              "      <td>TGO</td>\n",
              "      <td>2009</td>\n",
              "      <td>-1.766692e+08</td>\n",
              "      <td>1.855275</td>\n",
              "      <td>3.510297</td>\n",
              "      <td>9.030260e+08</td>\n",
              "      <td>76.242542</td>\n",
              "    </tr>\n",
              "    <tr>\n",
              "      <th>2</th>\n",
              "      <td>2</td>\n",
              "      <td>Pakistan</td>\n",
              "      <td>PAK</td>\n",
              "      <td>1992</td>\n",
              "      <td>-1.876092e+09</td>\n",
              "      <td>10.057085</td>\n",
              "      <td>7.705898</td>\n",
              "      <td>7.351000e+09</td>\n",
              "      <td>34.489440</td>\n",
              "    </tr>\n",
              "    <tr>\n",
              "      <th>3</th>\n",
              "      <td>3</td>\n",
              "      <td>Nepal</td>\n",
              "      <td>NPL</td>\n",
              "      <td>1988</td>\n",
              "      <td>-2.714506e+08</td>\n",
              "      <td>11.815310</td>\n",
              "      <td>7.696809</td>\n",
              "      <td>1.900000e+08</td>\n",
              "      <td>24.978422</td>\n",
              "    </tr>\n",
              "    <tr>\n",
              "      <th>4</th>\n",
              "      <td>5</td>\n",
              "      <td>Malta</td>\n",
              "      <td>MLT</td>\n",
              "      <td>2016</td>\n",
              "      <td>7.269132e+08</td>\n",
              "      <td>1.604548</td>\n",
              "      <td>5.516617</td>\n",
              "      <td>3.017299e+09</td>\n",
              "      <td>83.781471</td>\n",
              "    </tr>\n",
              "  </tbody>\n",
              "</table>\n",
              "</div>"
            ],
            "text/plain": [
              "   Unnamed: 0 Country Name Country Code  ...       GDP       Exports      Trade\n",
              "0           0      Senegal          SEN  ... -5.326393  6.180000e+08  59.224298\n",
              "1           1         Togo          TGO  ...  3.510297  9.030260e+08  76.242542\n",
              "2           2     Pakistan          PAK  ...  7.705898  7.351000e+09  34.489440\n",
              "3           3        Nepal          NPL  ...  7.696809  1.900000e+08  24.978422\n",
              "4           5        Malta          MLT  ...  5.516617  3.017299e+09  83.781471\n",
              "\n",
              "[5 rows x 9 columns]"
            ]
          },
          "metadata": {
            "tags": []
          },
          "execution_count": 2
        }
      ]
    },
    {
      "cell_type": "code",
      "metadata": {
        "id": "dq3oG_yv5GBN",
        "colab_type": "code",
        "colab": {}
      },
      "source": [
        "train.drop(columns='Unnamed: 0',axis=1,inplace=True)\n",
        "test.drop(columns='Unnamed: 0',axis=1,inplace=True)"
      ],
      "execution_count": 0,
      "outputs": []
    },
    {
      "cell_type": "code",
      "metadata": {
        "id": "3hZvQgC85RYG",
        "colab_type": "code",
        "outputId": "63bcd0f5-8697-49ce-f727-b0def8401d3e",
        "colab": {
          "base_uri": "https://localhost:8080/",
          "height": 204
        }
      },
      "source": [
        "train.head()"
      ],
      "execution_count": 0,
      "outputs": [
        {
          "output_type": "execute_result",
          "data": {
            "text/html": [
              "<div>\n",
              "<style scoped>\n",
              "    .dataframe tbody tr th:only-of-type {\n",
              "        vertical-align: middle;\n",
              "    }\n",
              "\n",
              "    .dataframe tbody tr th {\n",
              "        vertical-align: top;\n",
              "    }\n",
              "\n",
              "    .dataframe thead th {\n",
              "        text-align: right;\n",
              "    }\n",
              "</style>\n",
              "<table border=\"1\" class=\"dataframe\">\n",
              "  <thead>\n",
              "    <tr style=\"text-align: right;\">\n",
              "      <th></th>\n",
              "      <th>Country Name</th>\n",
              "      <th>Country Code</th>\n",
              "      <th>Year</th>\n",
              "      <th>Balance</th>\n",
              "      <th>Inflation</th>\n",
              "      <th>GDP</th>\n",
              "      <th>Exports</th>\n",
              "      <th>Trade</th>\n",
              "    </tr>\n",
              "  </thead>\n",
              "  <tbody>\n",
              "    <tr>\n",
              "      <th>0</th>\n",
              "      <td>Senegal</td>\n",
              "      <td>SEN</td>\n",
              "      <td>1983</td>\n",
              "      <td>-3.043829e+08</td>\n",
              "      <td>9.274213</td>\n",
              "      <td>-5.326393</td>\n",
              "      <td>6.180000e+08</td>\n",
              "      <td>59.224298</td>\n",
              "    </tr>\n",
              "    <tr>\n",
              "      <th>1</th>\n",
              "      <td>Togo</td>\n",
              "      <td>TGO</td>\n",
              "      <td>2009</td>\n",
              "      <td>-1.766692e+08</td>\n",
              "      <td>1.855275</td>\n",
              "      <td>3.510297</td>\n",
              "      <td>9.030260e+08</td>\n",
              "      <td>76.242542</td>\n",
              "    </tr>\n",
              "    <tr>\n",
              "      <th>2</th>\n",
              "      <td>Pakistan</td>\n",
              "      <td>PAK</td>\n",
              "      <td>1992</td>\n",
              "      <td>-1.876092e+09</td>\n",
              "      <td>10.057085</td>\n",
              "      <td>7.705898</td>\n",
              "      <td>7.351000e+09</td>\n",
              "      <td>34.489440</td>\n",
              "    </tr>\n",
              "    <tr>\n",
              "      <th>3</th>\n",
              "      <td>Nepal</td>\n",
              "      <td>NPL</td>\n",
              "      <td>1988</td>\n",
              "      <td>-2.714506e+08</td>\n",
              "      <td>11.815310</td>\n",
              "      <td>7.696809</td>\n",
              "      <td>1.900000e+08</td>\n",
              "      <td>24.978422</td>\n",
              "    </tr>\n",
              "    <tr>\n",
              "      <th>4</th>\n",
              "      <td>Malta</td>\n",
              "      <td>MLT</td>\n",
              "      <td>2016</td>\n",
              "      <td>7.269132e+08</td>\n",
              "      <td>1.604548</td>\n",
              "      <td>5.516617</td>\n",
              "      <td>3.017299e+09</td>\n",
              "      <td>83.781471</td>\n",
              "    </tr>\n",
              "  </tbody>\n",
              "</table>\n",
              "</div>"
            ],
            "text/plain": [
              "  Country Name Country Code  Year  ...       GDP       Exports      Trade\n",
              "0      Senegal          SEN  1983  ... -5.326393  6.180000e+08  59.224298\n",
              "1         Togo          TGO  2009  ...  3.510297  9.030260e+08  76.242542\n",
              "2     Pakistan          PAK  1992  ...  7.705898  7.351000e+09  34.489440\n",
              "3        Nepal          NPL  1988  ...  7.696809  1.900000e+08  24.978422\n",
              "4        Malta          MLT  2016  ...  5.516617  3.017299e+09  83.781471\n",
              "\n",
              "[5 rows x 8 columns]"
            ]
          },
          "metadata": {
            "tags": []
          },
          "execution_count": 4
        }
      ]
    },
    {
      "cell_type": "code",
      "metadata": {
        "id": "ktCPf0F9DpMy",
        "colab_type": "code",
        "outputId": "d68382e2-172d-46d8-f75f-83d76ee8e7f3",
        "colab": {
          "base_uri": "https://localhost:8080/",
          "height": 204
        }
      },
      "source": [
        "test.head()"
      ],
      "execution_count": 0,
      "outputs": [
        {
          "output_type": "execute_result",
          "data": {
            "text/html": [
              "<div>\n",
              "<style scoped>\n",
              "    .dataframe tbody tr th:only-of-type {\n",
              "        vertical-align: middle;\n",
              "    }\n",
              "\n",
              "    .dataframe tbody tr th {\n",
              "        vertical-align: top;\n",
              "    }\n",
              "\n",
              "    .dataframe thead th {\n",
              "        text-align: right;\n",
              "    }\n",
              "</style>\n",
              "<table border=\"1\" class=\"dataframe\">\n",
              "  <thead>\n",
              "    <tr style=\"text-align: right;\">\n",
              "      <th></th>\n",
              "      <th>Country Name</th>\n",
              "      <th>Country Code</th>\n",
              "      <th>Year</th>\n",
              "      <th>Inflation</th>\n",
              "      <th>GDP</th>\n",
              "      <th>Exports</th>\n",
              "      <th>Trade</th>\n",
              "    </tr>\n",
              "  </thead>\n",
              "  <tbody>\n",
              "    <tr>\n",
              "      <th>0</th>\n",
              "      <td>Cyprus</td>\n",
              "      <td>CYP</td>\n",
              "      <td>2001</td>\n",
              "      <td>3.657166</td>\n",
              "      <td>3.600665</td>\n",
              "      <td>9.760000e+08</td>\n",
              "      <td>46.359979</td>\n",
              "    </tr>\n",
              "    <tr>\n",
              "      <th>1</th>\n",
              "      <td>Benin</td>\n",
              "      <td>BEN</td>\n",
              "      <td>1995</td>\n",
              "      <td>15.099452</td>\n",
              "      <td>6.045199</td>\n",
              "      <td>4.200000e+08</td>\n",
              "      <td>53.726740</td>\n",
              "    </tr>\n",
              "    <tr>\n",
              "      <th>2</th>\n",
              "      <td>Bangladesh</td>\n",
              "      <td>BGD</td>\n",
              "      <td>1995</td>\n",
              "      <td>7.144939</td>\n",
              "      <td>5.121278</td>\n",
              "      <td>3.501000e+09</td>\n",
              "      <td>26.871554</td>\n",
              "    </tr>\n",
              "    <tr>\n",
              "      <th>3</th>\n",
              "      <td>Paraguay</td>\n",
              "      <td>PRY</td>\n",
              "      <td>1978</td>\n",
              "      <td>9.706191</td>\n",
              "      <td>12.028730</td>\n",
              "      <td>2.569700e+08</td>\n",
              "      <td>27.230654</td>\n",
              "    </tr>\n",
              "    <tr>\n",
              "      <th>4</th>\n",
              "      <td>Morocco</td>\n",
              "      <td>MAR</td>\n",
              "      <td>1987</td>\n",
              "      <td>3.014808</td>\n",
              "      <td>-0.325004</td>\n",
              "      <td>2.826000e+09</td>\n",
              "      <td>32.418633</td>\n",
              "    </tr>\n",
              "  </tbody>\n",
              "</table>\n",
              "</div>"
            ],
            "text/plain": [
              "  Country Name Country Code  Year  ...        GDP       Exports      Trade\n",
              "0       Cyprus          CYP  2001  ...   3.600665  9.760000e+08  46.359979\n",
              "1        Benin          BEN  1995  ...   6.045199  4.200000e+08  53.726740\n",
              "2   Bangladesh          BGD  1995  ...   5.121278  3.501000e+09  26.871554\n",
              "3     Paraguay          PRY  1978  ...  12.028730  2.569700e+08  27.230654\n",
              "4      Morocco          MAR  1987  ...  -0.325004  2.826000e+09  32.418633\n",
              "\n",
              "[5 rows x 7 columns]"
            ]
          },
          "metadata": {
            "tags": []
          },
          "execution_count": 5
        }
      ]
    },
    {
      "cell_type": "code",
      "metadata": {
        "id": "W0Nh1hYS5WME",
        "colab_type": "code",
        "outputId": "ac3cee0d-7883-4c87-bad2-1c9d3593cb55",
        "colab": {
          "base_uri": "https://localhost:8080/",
          "height": 286
        }
      },
      "source": [
        "plt.style.use('seaborn-colorblind')\n",
        "sns.heatmap(train.corr())"
      ],
      "execution_count": 0,
      "outputs": [
        {
          "output_type": "execute_result",
          "data": {
            "text/plain": [
              "<matplotlib.axes._subplots.AxesSubplot at 0x7f0c60b41c88>"
            ]
          },
          "metadata": {
            "tags": []
          },
          "execution_count": 6
        },
        {
          "output_type": "display_data",
          "data": {
            "image/png": "[encoded data removed]",
            "text/plain": [
              "<Figure size 432x288 with 2 Axes>"
            ]
          },
          "metadata": {
            "tags": []
          }
        }
      ]
    },
    {
      "cell_type": "code",
      "metadata": {
        "id": "oFoKZI206FVg",
        "colab_type": "code",
        "outputId": "1d4a3d39-7043-4655-ad20-912e90588919",
        "colab": {
          "base_uri": "https://localhost:8080/",
          "height": 293
        }
      },
      "source": [
        "train.plot()\n",
        "#plt.plot(train['Year'],train['Inflation']);"
      ],
      "execution_count": 0,
      "outputs": [
        {
          "output_type": "execute_result",
          "data": {
            "text/plain": [
              "<matplotlib.axes._subplots.AxesSubplot at 0x7f0c5d2774e0>"
            ]
          },
          "metadata": {
            "tags": []
          },
          "execution_count": 7
        },
        {
          "output_type": "display_data",
          "data": {
            "image/png": "[encoded data removed]",
            "text/plain": [
              "<Figure size 432x288 with 1 Axes>"
            ]
          },
          "metadata": {
            "tags": []
          }
        }
      ]
    },
    {
      "cell_type": "code",
      "metadata": {
        "id": "DW7qMDqy6huh",
        "colab_type": "code",
        "outputId": "4270ecf3-f836-46bf-dd25-4d679b0d245b",
        "colab": {
          "base_uri": "https://localhost:8080/",
          "height": 235
        }
      },
      "source": [
        "train.describe().T"
      ],
      "execution_count": 0,
      "outputs": [
        {
          "output_type": "execute_result",
          "data": {
            "text/html": [
              "<div>\n",
              "<style scoped>\n",
              "    .dataframe tbody tr th:only-of-type {\n",
              "        vertical-align: middle;\n",
              "    }\n",
              "\n",
              "    .dataframe tbody tr th {\n",
              "        vertical-align: top;\n",
              "    }\n",
              "\n",
              "    .dataframe thead th {\n",
              "        text-align: right;\n",
              "    }\n",
              "</style>\n",
              "<table border=\"1\" class=\"dataframe\">\n",
              "  <thead>\n",
              "    <tr style=\"text-align: right;\">\n",
              "      <th></th>\n",
              "      <th>count</th>\n",
              "      <th>mean</th>\n",
              "      <th>std</th>\n",
              "      <th>min</th>\n",
              "      <th>25%</th>\n",
              "      <th>50%</th>\n",
              "      <th>75%</th>\n",
              "      <th>max</th>\n",
              "    </tr>\n",
              "  </thead>\n",
              "  <tbody>\n",
              "    <tr>\n",
              "      <th>Year</th>\n",
              "      <td>4506.0</td>\n",
              "      <td>1.996315e+03</td>\n",
              "      <td>1.219629e+01</td>\n",
              "      <td>1.960000e+03</td>\n",
              "      <td>1.986000e+03</td>\n",
              "      <td>1.997000e+03</td>\n",
              "      <td>2.007000e+03</td>\n",
              "      <td>2.016000e+03</td>\n",
              "    </tr>\n",
              "    <tr>\n",
              "      <th>Balance</th>\n",
              "      <td>4506.0</td>\n",
              "      <td>-5.132031e+08</td>\n",
              "      <td>3.561007e+10</td>\n",
              "      <td>-8.060000e+11</td>\n",
              "      <td>-9.811873e+08</td>\n",
              "      <td>-1.603287e+08</td>\n",
              "      <td>2.885250e+07</td>\n",
              "      <td>4.210000e+11</td>\n",
              "    </tr>\n",
              "    <tr>\n",
              "      <th>Inflation</th>\n",
              "      <td>4261.0</td>\n",
              "      <td>3.161346e+01</td>\n",
              "      <td>3.538180e+02</td>\n",
              "      <td>-2.969107e+01</td>\n",
              "      <td>2.400000e+00</td>\n",
              "      <td>6.184351e+00</td>\n",
              "      <td>1.240971e+01</td>\n",
              "      <td>1.361163e+04</td>\n",
              "    </tr>\n",
              "    <tr>\n",
              "      <th>GDP</th>\n",
              "      <td>4262.0</td>\n",
              "      <td>3.641224e+00</td>\n",
              "      <td>4.850978e+00</td>\n",
              "      <td>-6.207592e+01</td>\n",
              "      <td>1.481036e+00</td>\n",
              "      <td>3.799969e+00</td>\n",
              "      <td>6.050231e+00</td>\n",
              "      <td>3.450000e+01</td>\n",
              "    </tr>\n",
              "    <tr>\n",
              "      <th>Exports</th>\n",
              "      <td>4490.0</td>\n",
              "      <td>4.339613e+10</td>\n",
              "      <td>1.445441e+11</td>\n",
              "      <td>2.000000e+06</td>\n",
              "      <td>4.804255e+08</td>\n",
              "      <td>2.930136e+09</td>\n",
              "      <td>2.044775e+10</td>\n",
              "      <td>2.340000e+12</td>\n",
              "    </tr>\n",
              "    <tr>\n",
              "      <th>Trade</th>\n",
              "      <td>4304.0</td>\n",
              "      <td>6.288931e+01</td>\n",
              "      <td>4.675398e+01</td>\n",
              "      <td>7.920909e+00</td>\n",
              "      <td>3.809632e+01</td>\n",
              "      <td>5.243651e+01</td>\n",
              "      <td>7.674579e+01</td>\n",
              "      <td>9.577840e+02</td>\n",
              "    </tr>\n",
              "  </tbody>\n",
              "</table>\n",
              "</div>"
            ],
            "text/plain": [
              "            count          mean  ...           75%           max\n",
              "Year       4506.0  1.996315e+03  ...  2.007000e+03  2.016000e+03\n",
              "Balance    4506.0 -5.132031e+08  ...  2.885250e+07  4.210000e+11\n",
              "Inflation  4261.0  3.161346e+01  ...  1.240971e+01  1.361163e+04\n",
              "GDP        4262.0  3.641224e+00  ...  6.050231e+00  3.450000e+01\n",
              "Exports    4490.0  4.339613e+10  ...  2.044775e+10  2.340000e+12\n",
              "Trade      4304.0  6.288931e+01  ...  7.674579e+01  9.577840e+02\n",
              "\n",
              "[6 rows x 8 columns]"
            ]
          },
          "metadata": {
            "tags": []
          },
          "execution_count": 20
        }
      ]
    },
    {
      "cell_type": "code",
      "metadata": {
        "id": "zD0XiSRp71Sw",
        "colab_type": "code",
        "outputId": "39dfe3d7-7f70-460e-e8eb-73072a3ffef4",
        "colab": {
          "base_uri": "https://localhost:8080/",
          "height": 290
        }
      },
      "source": [
        "sns.scatterplot(train['Year'],train['Balance']);"
      ],
      "execution_count": 0,
      "outputs": [
        {
          "output_type": "display_data",
          "data": {
            "image/png": "[encoded data removed]",
            "text/plain": [
              "<Figure size 432x288 with 1 Axes>"
            ]
          },
          "metadata": {
            "tags": []
          }
        }
      ]
    },
    {
      "cell_type": "code",
      "metadata": {
        "id": "cezHoGj57Yb5",
        "colab_type": "code",
        "outputId": "659e2f39-905a-4396-9c81-ab7861ef85ef",
        "colab": {
          "base_uri": "https://localhost:8080/",
          "height": 283
        }
      },
      "source": [
        "sns.scatterplot(train['Year'],train['Inflation']);"
      ],
      "execution_count": 0,
      "outputs": [
        {
          "output_type": "display_data",
          "data": {
            "image/png": "[encoded data removed]",
            "text/plain": [
              "<Figure size 432x288 with 1 Axes>"
            ]
          },
          "metadata": {
            "tags": []
          }
        }
      ]
    },
    {
      "cell_type": "code",
      "metadata": {
        "id": "Qs5FYuEk7ymy",
        "colab_type": "code",
        "outputId": "1c0c6810-0573-4517-f0bc-91ae25a78ff9",
        "colab": {
          "base_uri": "https://localhost:8080/",
          "height": 283
        }
      },
      "source": [
        "sns.dis(train['Year'],train['GDP']);"
      ],
      "execution_count": 0,
      "outputs": [
        {
          "output_type": "display_data",
          "data": {
            "image/png": "[encoded data removed]",
            "text/plain": [
              "<Figure size 432x288 with 1 Axes>"
            ]
          },
          "metadata": {
            "tags": []
          }
        }
      ]
    },
    {
      "cell_type": "code",
      "metadata": {
        "id": "dHasklh57_J5",
        "colab_type": "code",
        "outputId": "b4838fa0-ab63-422a-823a-dbded8f56a58",
        "colab": {
          "base_uri": "https://localhost:8080/",
          "height": 290
        }
      },
      "source": [
        "sns.scatterplot(train['Year'],train['Exports']);"
      ],
      "execution_count": 0,
      "outputs": [
        {
          "output_type": "display_data",
          "data": {
            "image/png": "[encoded data removed]",
            "text/plain": [
              "<Figure size 432x288 with 1 Axes>"
            ]
          },
          "metadata": {
            "tags": []
          }
        }
      ]
    },
    {
      "cell_type": "code",
      "metadata": {
        "id": "ZUIpwWuj8A75",
        "colab_type": "code",
        "outputId": "1b3ecb38-28f7-49b4-fc66-30a8d63b9b29",
        "colab": {
          "base_uri": "https://localhost:8080/",
          "height": 283
        }
      },
      "source": [
        "sns.scatterplot(train['Year'],train['Trade']);"
      ],
      "execution_count": 0,
      "outputs": [
        {
          "output_type": "display_data",
          "data": {
            "image/png": "[encoded data removed]",
            "text/plain": [
              "<Figure size 432x288 with 1 Axes>"
            ]
          },
          "metadata": {
            "tags": []
          }
        }
      ]
    },
    {
      "cell_type": "code",
      "metadata": {
        "id": "SbRwG3jx9YzS",
        "colab_type": "code",
        "outputId": "356d9d7c-d0a5-4b98-d05c-4ec31cfd4697",
        "colab": {
          "base_uri": "https://localhost:8080/",
          "height": 170
        }
      },
      "source": [
        "train.isnull().sum()"
      ],
      "execution_count": 0,
      "outputs": [
        {
          "output_type": "execute_result",
          "data": {
            "text/plain": [
              "Country Name      0\n",
              "Country Code      0\n",
              "Year              0\n",
              "Balance           0\n",
              "Inflation       245\n",
              "GDP             244\n",
              "Exports          16\n",
              "Trade           202\n",
              "dtype: int64"
            ]
          },
          "metadata": {
            "tags": []
          },
          "execution_count": 8
        }
      ]
    },
    {
      "cell_type": "code",
      "metadata": {
        "id": "Kld8jZeaDwqB",
        "colab_type": "code",
        "outputId": "df6836a9-c030-4660-cd14-837b61d651df",
        "colab": {
          "base_uri": "https://localhost:8080/",
          "height": 153
        }
      },
      "source": [
        "test.isnull().sum()"
      ],
      "execution_count": 0,
      "outputs": [
        {
          "output_type": "execute_result",
          "data": {
            "text/plain": [
              "Country Name    0\n",
              "Country Code    0\n",
              "Year            0\n",
              "Inflation       0\n",
              "GDP             0\n",
              "Exports         0\n",
              "Trade           0\n",
              "dtype: int64"
            ]
          },
          "metadata": {
            "tags": []
          },
          "execution_count": 9
        }
      ]
    },
    {
      "cell_type": "code",
      "metadata": {
        "id": "Pl5UbHTF9d-k",
        "colab_type": "code",
        "outputId": "325553c6-b7b2-4c9b-cc4f-a97340ab3a79",
        "colab": {
          "base_uri": "https://localhost:8080/",
          "height": 170
        }
      },
      "source": [
        "df = train.copy()\n",
        "train['Inflation'].fillna(train['Inflation'].mean(),inplace=True)\n",
        "train['GDP'].fillna(train['GDP'].mean(),inplace=True)\n",
        "train['Exports'].fillna(train['Exports'].mean(),inplace=True)\n",
        "train['Trade'].fillna(train['Trade'].mean(),inplace=True)\n",
        "train.isnull().sum()"
      ],
      "execution_count": 0,
      "outputs": [
        {
          "output_type": "execute_result",
          "data": {
            "text/plain": [
              "Country Name    0\n",
              "Country Code    0\n",
              "Year            0\n",
              "Balance         0\n",
              "Inflation       0\n",
              "GDP             0\n",
              "Exports         0\n",
              "Trade           0\n",
              "dtype: int64"
            ]
          },
          "metadata": {
            "tags": []
          },
          "execution_count": 10
        }
      ]
    },
    {
      "cell_type": "code",
      "metadata": {
        "id": "41q3sabs-r7C",
        "colab_type": "code",
        "outputId": "6ffd333a-e27c-4ac1-c02e-010bffc73ab2",
        "colab": {
          "base_uri": "https://localhost:8080/",
          "height": 170
        }
      },
      "source": [
        "train.dtypes"
      ],
      "execution_count": 0,
      "outputs": [
        {
          "output_type": "execute_result",
          "data": {
            "text/plain": [
              "Country Name     object\n",
              "Country Code     object\n",
              "Year              int64\n",
              "Balance         float64\n",
              "Inflation       float64\n",
              "GDP             float64\n",
              "Exports         float64\n",
              "Trade           float64\n",
              "dtype: object"
            ]
          },
          "metadata": {
            "tags": []
          },
          "execution_count": 11
        }
      ]
    },
    {
      "cell_type": "code",
      "metadata": {
        "id": "CpIjbmbI-1Y0",
        "colab_type": "code",
        "colab": {}
      },
      "source": [
        "categorical_features_indices = np.where(train.dtypes != np.float)[0]\n",
        "categorical_features_indices\n",
        "column = ['Inflation', 'GDP','Exports', 'Trade']"
      ],
      "execution_count": 0,
      "outputs": []
    },
    {
      "cell_type": "code",
      "metadata": {
        "id": "E6EWOH4ILtgM",
        "colab_type": "code",
        "colab": {}
      },
      "source": [
        "#Creating a training set for modeling and validation set to check model performance\n",
        "#X = train[column]\n",
        "#y = train.Balance\n",
        "\n",
        "#from sklearn.model_selection import train_test_split\n",
        "#X_train, X_validation, y_train, y_validation = train_test_split(X, y, train_size=0.7, random_state=1234)"
      ],
      "execution_count": 0,
      "outputs": []
    },
    {
      "cell_type": "code",
      "metadata": {
        "id": "pfHoP8OfP9F8",
        "colab_type": "code",
        "outputId": "a4b88ebd-6060-4505-d74c-8cd72456fa67",
        "colab": {
          "base_uri": "https://localhost:8080/",
          "height": 51
        }
      },
      "source": [
        "#from sklearn.tree import DecisionTreeRegressor\n",
        "#dt_reg = DecisionTreeRegressor().fit(X_train, y_train)\n",
        "\n",
        "#print('Train : ', dt_reg.score(X_train, y_train))\n",
        "#print('Test : ',dt_reg.score(X_validation, y_validation))"
      ],
      "execution_count": 0,
      "outputs": [
        {
          "output_type": "stream",
          "text": [
            "Train :  0.9999999673359022\n",
            "Test :  0.625781414501253\n"
          ],
          "name": "stdout"
        }
      ]
    },
    {
      "cell_type": "code",
      "metadata": {
        "id": "ZsLFduI8KgPh",
        "colab_type": "code",
        "outputId": "c7440a34-12c5-4a7f-9f5e-e88b0c95eac0",
        "colab": {
          "base_uri": "https://localhost:8080/",
          "height": 51
        }
      },
      "source": [
        "#DecisionTreeRegressor?\n",
        "#dt_reg1 = DecisionTreeRegressor(random_state=100,max_depth=5).fit(X_train, y_train)\n",
        "\n",
        "#print('Train : ', dt_reg1.score(X_train, y_train))\n",
        "#print('Test : ',dt_reg1.score(X_validation, y_validation))"
      ],
      "execution_count": 0,
      "outputs": [
        {
          "output_type": "stream",
          "text": [
            "Train :  0.8938641422478368\n",
            "Test :  0.7607415910472972\n"
          ],
          "name": "stdout"
        }
      ]
    },
    {
      "cell_type": "code",
      "metadata": {
        "id": "ipbgpgXSSFRq",
        "colab_type": "code",
        "outputId": "5ee64a99-e9a7-4ff7-ccc6-bb7c321dc20b",
        "colab": {
          "base_uri": "https://localhost:8080/",
          "height": 297
        }
      },
      "source": [
        "# depths = list(range(1,9))\n",
        "# depths\n",
        "\n",
        "# train_scores=[]\n",
        "# test_scores=[]\n",
        "# for i in depths:\n",
        "  # dt_reg_loop = DecisionTreeRegressor(criterion='mse',min_samples_split=3,max_leaf_nodes=30,random_state=1,max_depth=i).fit(X_train, y_train)\n",
        "  # train_score = dt_reg_loop.score(X_train, y_train)\n",
        "  # train_scores.append(train_score)\n",
        "  # test_score = dt_reg_loop.score(X_validation, y_validation)\n",
        "  # test_scores.append(test_score)\n",
        "  \n",
        "# df_dt = pd.DataFrame({'Train':train_scores,'Test':test_scores})\n",
        "# df_dt"
      ],
      "execution_count": 0,
      "outputs": [
        {
          "output_type": "execute_result",
          "data": {
            "text/html": [
              "<div>\n",
              "<style scoped>\n",
              "    .dataframe tbody tr th:only-of-type {\n",
              "        vertical-align: middle;\n",
              "    }\n",
              "\n",
              "    .dataframe tbody tr th {\n",
              "        vertical-align: top;\n",
              "    }\n",
              "\n",
              "    .dataframe thead th {\n",
              "        text-align: right;\n",
              "    }\n",
              "</style>\n",
              "<table border=\"1\" class=\"dataframe\">\n",
              "  <thead>\n",
              "    <tr style=\"text-align: right;\">\n",
              "      <th></th>\n",
              "      <th>Train</th>\n",
              "      <th>Test</th>\n",
              "    </tr>\n",
              "  </thead>\n",
              "  <tbody>\n",
              "    <tr>\n",
              "      <th>0</th>\n",
              "      <td>0.060090</td>\n",
              "      <td>-0.266207</td>\n",
              "    </tr>\n",
              "    <tr>\n",
              "      <th>1</th>\n",
              "      <td>0.686677</td>\n",
              "      <td>0.674521</td>\n",
              "    </tr>\n",
              "    <tr>\n",
              "      <th>2</th>\n",
              "      <td>0.779698</td>\n",
              "      <td>0.766251</td>\n",
              "    </tr>\n",
              "    <tr>\n",
              "      <th>3</th>\n",
              "      <td>0.845972</td>\n",
              "      <td>0.774842</td>\n",
              "    </tr>\n",
              "    <tr>\n",
              "      <th>4</th>\n",
              "      <td>0.893215</td>\n",
              "      <td>0.772912</td>\n",
              "    </tr>\n",
              "    <tr>\n",
              "      <th>5</th>\n",
              "      <td>0.906832</td>\n",
              "      <td>0.754094</td>\n",
              "    </tr>\n",
              "    <tr>\n",
              "      <th>6</th>\n",
              "      <td>0.912222</td>\n",
              "      <td>0.759724</td>\n",
              "    </tr>\n",
              "    <tr>\n",
              "      <th>7</th>\n",
              "      <td>0.916380</td>\n",
              "      <td>0.731666</td>\n",
              "    </tr>\n",
              "  </tbody>\n",
              "</table>\n",
              "</div>"
            ],
            "text/plain": [
              "      Train      Test\n",
              "0  0.060090 -0.266207\n",
              "1  0.686677  0.674521\n",
              "2  0.779698  0.766251\n",
              "3  0.845972  0.774842\n",
              "4  0.893215  0.772912\n",
              "5  0.906832  0.754094\n",
              "6  0.912222  0.759724\n",
              "7  0.916380  0.731666"
            ]
          },
          "metadata": {
            "tags": []
          },
          "execution_count": 12
        }
      ]
    },
    {
      "cell_type": "code",
      "metadata": {
        "id": "DWWhVmmIeezs",
        "colab_type": "code",
        "outputId": "85ff9354-d25f-4fab-b070-c2b4c574aa3f",
        "colab": {
          "base_uri": "https://localhost:8080/",
          "height": 328
        }
      },
      "source": [
        "# from sklearn.ensemble import RandomForestRegressor\n",
        "# depths = list(range(1,10))\n",
        "# random_state=10\n",
        "\n",
        "# RF_train_scores=[]\n",
        "# RF_test_scores=[]\n",
        "# for i in depths:\n",
        "  # dt_reg_loop = RandomForestRegressor(n_estimators=500,criterion='mse',random_state=random_state,max_depth=i).fit(X_train, y_train)\n",
        "  # train_score = dt_reg_loop.score(X_train, y_train)\n",
        "  # RF_train_scores.append(train_score)\n",
        "  # test_score = dt_reg_loop.score(X_validation, y_validation)\n",
        "  # RF_test_scores.append(test_score)\n",
        "  \n",
        "# df_rf = pd.DataFrame({'Train':RF_train_scores,'Test':RF_test_scores})\n",
        "# df_rf"
      ],
      "execution_count": 0,
      "outputs": [
        {
          "output_type": "execute_result",
          "data": {
            "text/html": [
              "<div>\n",
              "<style scoped>\n",
              "    .dataframe tbody tr th:only-of-type {\n",
              "        vertical-align: middle;\n",
              "    }\n",
              "\n",
              "    .dataframe tbody tr th {\n",
              "        vertical-align: top;\n",
              "    }\n",
              "\n",
              "    .dataframe thead th {\n",
              "        text-align: right;\n",
              "    }\n",
              "</style>\n",
              "<table border=\"1\" class=\"dataframe\">\n",
              "  <thead>\n",
              "    <tr style=\"text-align: right;\">\n",
              "      <th></th>\n",
              "      <th>Train</th>\n",
              "      <th>Test</th>\n",
              "    </tr>\n",
              "  </thead>\n",
              "  <tbody>\n",
              "    <tr>\n",
              "      <th>0</th>\n",
              "      <td>0.071157</td>\n",
              "      <td>-0.128925</td>\n",
              "    </tr>\n",
              "    <tr>\n",
              "      <th>1</th>\n",
              "      <td>0.619878</td>\n",
              "      <td>0.527938</td>\n",
              "    </tr>\n",
              "    <tr>\n",
              "      <th>2</th>\n",
              "      <td>0.721844</td>\n",
              "      <td>0.589513</td>\n",
              "    </tr>\n",
              "    <tr>\n",
              "      <th>3</th>\n",
              "      <td>0.781490</td>\n",
              "      <td>0.611260</td>\n",
              "    </tr>\n",
              "    <tr>\n",
              "      <th>4</th>\n",
              "      <td>0.820759</td>\n",
              "      <td>0.645835</td>\n",
              "    </tr>\n",
              "    <tr>\n",
              "      <th>5</th>\n",
              "      <td>0.846681</td>\n",
              "      <td>0.645748</td>\n",
              "    </tr>\n",
              "    <tr>\n",
              "      <th>6</th>\n",
              "      <td>0.866400</td>\n",
              "      <td>0.655251</td>\n",
              "    </tr>\n",
              "    <tr>\n",
              "      <th>7</th>\n",
              "      <td>0.884145</td>\n",
              "      <td>0.673289</td>\n",
              "    </tr>\n",
              "    <tr>\n",
              "      <th>8</th>\n",
              "      <td>0.896318</td>\n",
              "      <td>0.676353</td>\n",
              "    </tr>\n",
              "  </tbody>\n",
              "</table>\n",
              "</div>"
            ],
            "text/plain": [
              "      Train      Test\n",
              "0  0.071157 -0.128925\n",
              "1  0.619878  0.527938\n",
              "2  0.721844  0.589513\n",
              "3  0.781490  0.611260\n",
              "4  0.820759  0.645835\n",
              "5  0.846681  0.645748\n",
              "6  0.866400  0.655251\n",
              "7  0.884145  0.673289\n",
              "8  0.896318  0.676353"
            ]
          },
          "metadata": {
            "tags": []
          },
          "execution_count": 14
        }
      ]
    },
    {
      "cell_type": "code",
      "metadata": {
        "id": "0RJOSvmw7e5V",
        "colab_type": "code",
        "outputId": "1c43060e-5160-48c1-a7be-50c25ea85ece",
        "colab": {
          "base_uri": "https://localhost:8080/",
          "height": 204
        }
      },
      "source": [
        "#from sklearn.neighbors import KNeighborsRegressor\n",
        "\n",
        "# val = list(range(200,250,10))\n",
        "# Kn_train_scores=[]\n",
        "# Kn_test_scores=[]\n",
        "# for i in val:\n",
        "  # knn_reg = KNeighborsRegressor(n_neighbors=i).fit(X_train,y_train)\n",
        "  # train_score = knn_reg.score(X_train, y_train)\n",
        "  # Kn_train_scores.append(train_score)\n",
        "  # test_score = knn_reg.score(X_validation, y_validation)\n",
        "  # Kn_test_scores.append(test_score)\n",
        "  \n",
        "# df_Kn = pd.DataFrame({'Train':Kn_train_scores,'Test':Kn_test_scores})\n",
        "# # df_Kn\n"
      ],
      "execution_count": 0,
      "outputs": [
        {
          "output_type": "execute_result",
          "data": {
            "text/html": [
              "<div>\n",
              "<style scoped>\n",
              "    .dataframe tbody tr th:only-of-type {\n",
              "        vertical-align: middle;\n",
              "    }\n",
              "\n",
              "    .dataframe tbody tr th {\n",
              "        vertical-align: top;\n",
              "    }\n",
              "\n",
              "    .dataframe thead th {\n",
              "        text-align: right;\n",
              "    }\n",
              "</style>\n",
              "<table border=\"1\" class=\"dataframe\">\n",
              "  <thead>\n",
              "    <tr style=\"text-align: right;\">\n",
              "      <th></th>\n",
              "      <th>Train</th>\n",
              "      <th>Test</th>\n",
              "    </tr>\n",
              "  </thead>\n",
              "  <tbody>\n",
              "    <tr>\n",
              "      <th>0</th>\n",
              "      <td>0.012388</td>\n",
              "      <td>-0.014945</td>\n",
              "    </tr>\n",
              "    <tr>\n",
              "      <th>1</th>\n",
              "      <td>0.011833</td>\n",
              "      <td>-0.014996</td>\n",
              "    </tr>\n",
              "    <tr>\n",
              "      <th>2</th>\n",
              "      <td>0.011106</td>\n",
              "      <td>-0.014984</td>\n",
              "    </tr>\n",
              "    <tr>\n",
              "      <th>3</th>\n",
              "      <td>0.010623</td>\n",
              "      <td>-0.015476</td>\n",
              "    </tr>\n",
              "    <tr>\n",
              "      <th>4</th>\n",
              "      <td>0.010284</td>\n",
              "      <td>-0.015367</td>\n",
              "    </tr>\n",
              "  </tbody>\n",
              "</table>\n",
              "</div>"
            ],
            "text/plain": [
              "      Train      Test\n",
              "0  0.012388 -0.014945\n",
              "1  0.011833 -0.014996\n",
              "2  0.011106 -0.014984\n",
              "3  0.010623 -0.015476\n",
              "4  0.010284 -0.015367"
            ]
          },
          "metadata": {
            "tags": []
          },
          "execution_count": 20
        }
      ]
    },
    {
      "cell_type": "code",
      "metadata": {
        "id": "F6xaJmv177GV",
        "colab_type": "code",
        "outputId": "2a461b6c-76d3-4431-a026-f487e1df3c6f",
        "colab": {
          "base_uri": "https://localhost:8080/",
          "height": 102
        }
      },
      "source": [
        "# el_Reg = ElasticNet(alpha=100, l1_ratio=0.0001,normalize=True,max_iter=50,random_state=100).fit(X_train,y_train)\n",
        "\n",
        "# print('Trainning Score : {:.4f}'.format(el_Reg.score(X_train, y_train)))\n",
        "# print('Testing Score   : {:.4f}'.format(el_Reg.score(X_validation, y_validation)))\n",
        "\n",
        "# print()\n",
        "\n",
        "# bay_reg = BayesianRidge(n_iter=10).fit(X_train,y_train)\n",
        "\n",
        "# print('Trainning Score : {:.4f}'.format(bay_reg.score(X_train, y_train)))\n",
        "# print('Testing Score   : {:.4f}'.format(bay_reg.score(X_validation, y_validation)))\n",
        "# print()\n",
        "\n",
        "# las_reg = LassoLarsIC(max_iter=100).fit(X_train,y_train)\n",
        "\n",
        "# print('Trainning Score : {:.4f}'.format(las_reg.score(X_train, y_train)))\n",
        "# print('Testing Score   : {:.4f}'.format(las_reg.score(X_validation, y_validation)))\n",
        "# print()\n",
        "\n",
        "# kern_reg = KernelRidge(alpha=1,kernel='polynomial',degree=2).fit(X_train,y_train)\n",
        "\n",
        "# print('Trainning Score : {:.4f}'.format(kern_reg.score(X_train, y_train)))\n",
        "# print('Testing Score   : {:.4f}'.format(kern_reg.score(X_validation, y_validation)))"
      ],
      "execution_count": 0,
      "outputs": [
        {
          "output_type": "stream",
          "text": [
            "Trainning Score : 0.0000\n",
            "Testing Score   : -0.0021\n",
            "\n",
            "Trainning Score : 0.0132\n",
            "Testing Score   : -0.0847\n"
          ],
          "name": "stdout"
        }
      ]
    },
    {
      "cell_type": "code",
      "metadata": {
        "id": "F3uqUpyp9gNQ",
        "colab_type": "code",
        "outputId": "efb11be5-ea67-4120-e2a1-92d60f7cab7d",
        "colab": {
          "base_uri": "https://localhost:8080/",
          "height": 51
        }
      },
      "source": [
        "gr_Reg = GradientBoostingRegressor(n_estimators=3500, learning_rate=0.02,max_depth=4, max_features='sqrt',min_samples_leaf=5,\n",
        "                                   min_samples_split=5,loss='huber',random_state =5).fit(X_train,y_train)\n",
        "\n",
        "print('Trainning Score : {:.4f}'.format(gr_Reg.score(X_train, y_train)))\n",
        "print('Testing Score   : {:.4f}'.format(gr_Reg.score(X_validation, y_validation)))"
      ],
      "execution_count": 0,
      "outputs": [
        {
          "output_type": "stream",
          "text": [
            "Trainning Score : 0.9419\n",
            "Testing Score   : 0.8024\n"
          ],
          "name": "stdout"
        }
      ]
    },
    {
      "cell_type": "code",
      "metadata": {
        "id": "EBSy3ZSXBV_2",
        "colab_type": "code",
        "colab": {}
      },
      "source": [
        "gr_Reg = GradientBoostingRegressor(n_estimators=3500, learning_rate=0.02,max_depth=4, max_features='sqrt',min_samples_leaf=5,\n",
        "                                   min_samples_split=5,loss='huber',random_state =5).fit(X,y)\n",
        "\n",
        "X_test_1 = test[column]\n",
        "pred_test = gr_Reg.predict(X_test_1)"
      ],
      "execution_count": 0,
      "outputs": []
    },
    {
      "cell_type": "code",
      "metadata": {
        "id": "zwYrMWisEI5w",
        "colab_type": "code",
        "outputId": "18f0dfc0-fa6f-4657-ce14-f8c5b161f250",
        "colab": {
          "base_uri": "https://localhost:8080/",
          "height": 204
        }
      },
      "source": [
        "df = test.copy()\n",
        "df['Balance'] = pred_test\n",
        "df.head()"
      ],
      "execution_count": 0,
      "outputs": [
        {
          "output_type": "execute_result",
          "data": {
            "text/html": [
              "<div>\n",
              "<style scoped>\n",
              "    .dataframe tbody tr th:only-of-type {\n",
              "        vertical-align: middle;\n",
              "    }\n",
              "\n",
              "    .dataframe tbody tr th {\n",
              "        vertical-align: top;\n",
              "    }\n",
              "\n",
              "    .dataframe thead th {\n",
              "        text-align: right;\n",
              "    }\n",
              "</style>\n",
              "<table border=\"1\" class=\"dataframe\">\n",
              "  <thead>\n",
              "    <tr style=\"text-align: right;\">\n",
              "      <th></th>\n",
              "      <th>Country Name</th>\n",
              "      <th>Country Code</th>\n",
              "      <th>Year</th>\n",
              "      <th>Inflation</th>\n",
              "      <th>GDP</th>\n",
              "      <th>Exports</th>\n",
              "      <th>Trade</th>\n",
              "      <th>Balance</th>\n",
              "    </tr>\n",
              "  </thead>\n",
              "  <tbody>\n",
              "    <tr>\n",
              "      <th>0</th>\n",
              "      <td>Cyprus</td>\n",
              "      <td>CYP</td>\n",
              "      <td>2001</td>\n",
              "      <td>3.657166</td>\n",
              "      <td>3.600665</td>\n",
              "      <td>9.760000e+08</td>\n",
              "      <td>46.359979</td>\n",
              "      <td>-5.834585e+08</td>\n",
              "    </tr>\n",
              "    <tr>\n",
              "      <th>1</th>\n",
              "      <td>Benin</td>\n",
              "      <td>BEN</td>\n",
              "      <td>1995</td>\n",
              "      <td>15.099452</td>\n",
              "      <td>6.045199</td>\n",
              "      <td>4.200000e+08</td>\n",
              "      <td>53.726740</td>\n",
              "      <td>-1.742333e+08</td>\n",
              "    </tr>\n",
              "    <tr>\n",
              "      <th>2</th>\n",
              "      <td>Bangladesh</td>\n",
              "      <td>BGD</td>\n",
              "      <td>1995</td>\n",
              "      <td>7.144939</td>\n",
              "      <td>5.121278</td>\n",
              "      <td>3.501000e+09</td>\n",
              "      <td>26.871554</td>\n",
              "      <td>-1.398824e+09</td>\n",
              "    </tr>\n",
              "    <tr>\n",
              "      <th>3</th>\n",
              "      <td>Paraguay</td>\n",
              "      <td>PRY</td>\n",
              "      <td>1978</td>\n",
              "      <td>9.706191</td>\n",
              "      <td>12.028730</td>\n",
              "      <td>2.569700e+08</td>\n",
              "      <td>27.230654</td>\n",
              "      <td>-8.477308e+08</td>\n",
              "    </tr>\n",
              "    <tr>\n",
              "      <th>4</th>\n",
              "      <td>Morocco</td>\n",
              "      <td>MAR</td>\n",
              "      <td>1987</td>\n",
              "      <td>3.014808</td>\n",
              "      <td>-0.325004</td>\n",
              "      <td>2.826000e+09</td>\n",
              "      <td>32.418633</td>\n",
              "      <td>-1.570344e+09</td>\n",
              "    </tr>\n",
              "  </tbody>\n",
              "</table>\n",
              "</div>"
            ],
            "text/plain": [
              "  Country Name Country Code  Year  ...       Exports      Trade       Balance\n",
              "0       Cyprus          CYP  2001  ...  9.760000e+08  46.359979 -5.834585e+08\n",
              "1        Benin          BEN  1995  ...  4.200000e+08  53.726740 -1.742333e+08\n",
              "2   Bangladesh          BGD  1995  ...  3.501000e+09  26.871554 -1.398824e+09\n",
              "3     Paraguay          PRY  1978  ...  2.569700e+08  27.230654 -8.477308e+08\n",
              "4      Morocco          MAR  1987  ...  2.826000e+09  32.418633 -1.570344e+09\n",
              "\n",
              "[5 rows x 8 columns]"
            ]
          },
          "metadata": {
            "tags": []
          },
          "execution_count": 19
        }
      ]
    },
    {
      "cell_type": "code",
      "metadata": {
        "id": "QNj1KYjiEjve",
        "colab_type": "code",
        "colab": {}
      },
      "source": [
        "df.to_excel('mlds_sample_submission.xlsx',index=False)\n",
        "from google.colab import files\n",
        "files.download('mlds_sample_submission.xlsx')"
      ],
      "execution_count": 0,
      "outputs": []
    },
    {
      "cell_type": "code",
      "metadata": {
        "id": "_3y7h0e3GEwt",
        "colab_type": "code",
        "outputId": "092fc917-5fc1-4607-9c52-522c1fa47f0d",
        "colab": {
          "base_uri": "https://localhost:8080/",
          "height": 204
        }
      },
      "source": [
        "df.head()"
      ],
      "execution_count": 0,
      "outputs": [
        {
          "output_type": "execute_result",
          "data": {
            "text/html": [
              "<div>\n",
              "<style scoped>\n",
              "    .dataframe tbody tr th:only-of-type {\n",
              "        vertical-align: middle;\n",
              "    }\n",
              "\n",
              "    .dataframe tbody tr th {\n",
              "        vertical-align: top;\n",
              "    }\n",
              "\n",
              "    .dataframe thead th {\n",
              "        text-align: right;\n",
              "    }\n",
              "</style>\n",
              "<table border=\"1\" class=\"dataframe\">\n",
              "  <thead>\n",
              "    <tr style=\"text-align: right;\">\n",
              "      <th></th>\n",
              "      <th>Country Name</th>\n",
              "      <th>Country Code</th>\n",
              "      <th>Year</th>\n",
              "      <th>Inflation</th>\n",
              "      <th>GDP</th>\n",
              "      <th>Exports</th>\n",
              "      <th>Trade</th>\n",
              "      <th>Balance</th>\n",
              "    </tr>\n",
              "  </thead>\n",
              "  <tbody>\n",
              "    <tr>\n",
              "      <th>0</th>\n",
              "      <td>Cyprus</td>\n",
              "      <td>CYP</td>\n",
              "      <td>2001</td>\n",
              "      <td>3.657166</td>\n",
              "      <td>3.600665</td>\n",
              "      <td>9.760000e+08</td>\n",
              "      <td>46.359979</td>\n",
              "      <td>-5.834585e+08</td>\n",
              "    </tr>\n",
              "    <tr>\n",
              "      <th>1</th>\n",
              "      <td>Benin</td>\n",
              "      <td>BEN</td>\n",
              "      <td>1995</td>\n",
              "      <td>15.099452</td>\n",
              "      <td>6.045199</td>\n",
              "      <td>4.200000e+08</td>\n",
              "      <td>53.726740</td>\n",
              "      <td>-1.742333e+08</td>\n",
              "    </tr>\n",
              "    <tr>\n",
              "      <th>2</th>\n",
              "      <td>Bangladesh</td>\n",
              "      <td>BGD</td>\n",
              "      <td>1995</td>\n",
              "      <td>7.144939</td>\n",
              "      <td>5.121278</td>\n",
              "      <td>3.501000e+09</td>\n",
              "      <td>26.871554</td>\n",
              "      <td>-1.398824e+09</td>\n",
              "    </tr>\n",
              "    <tr>\n",
              "      <th>3</th>\n",
              "      <td>Paraguay</td>\n",
              "      <td>PRY</td>\n",
              "      <td>1978</td>\n",
              "      <td>9.706191</td>\n",
              "      <td>12.028730</td>\n",
              "      <td>2.569700e+08</td>\n",
              "      <td>27.230654</td>\n",
              "      <td>-8.477308e+08</td>\n",
              "    </tr>\n",
              "    <tr>\n",
              "      <th>4</th>\n",
              "      <td>Morocco</td>\n",
              "      <td>MAR</td>\n",
              "      <td>1987</td>\n",
              "      <td>3.014808</td>\n",
              "      <td>-0.325004</td>\n",
              "      <td>2.826000e+09</td>\n",
              "      <td>32.418633</td>\n",
              "      <td>-1.570344e+09</td>\n",
              "    </tr>\n",
              "  </tbody>\n",
              "</table>\n",
              "</div>"
            ],
            "text/plain": [
              "  Country Name Country Code  Year  ...       Exports      Trade       Balance\n",
              "0       Cyprus          CYP  2001  ...  9.760000e+08  46.359979 -5.834585e+08\n",
              "1        Benin          BEN  1995  ...  4.200000e+08  53.726740 -1.742333e+08\n",
              "2   Bangladesh          BGD  1995  ...  3.501000e+09  26.871554 -1.398824e+09\n",
              "3     Paraguay          PRY  1978  ...  2.569700e+08  27.230654 -8.477308e+08\n",
              "4      Morocco          MAR  1987  ...  2.826000e+09  32.418633 -1.570344e+09\n",
              "\n",
              "[5 rows x 8 columns]"
            ]
          },
          "metadata": {
            "tags": []
          },
          "execution_count": 21
        }
      ]
    }
  ]
}